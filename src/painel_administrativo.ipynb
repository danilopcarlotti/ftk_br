{
 "cells": [
  {
   "cell_type": "code",
   "execution_count": 3,
   "metadata": {},
   "outputs": [],
   "source": [
    "from scripts.metodos_painel_administrativo import (\n",
    "    usuarios_ativos,\n",
    "    investigacoes_usuario,\n",
    "    deletar_investigacao,\n",
    "    deletar_usuario,\n",
    ")"
   ]
  },
  {
   "cell_type": "markdown",
   "metadata": {},
   "source": [
    "### DESCRIÇÃO DOS MÉTODOS"
   ]
  },
  {
   "cell_type": "markdown",
   "metadata": {},
   "source": [
    "usuarios_ativos retorna os usuários com investigações cadastradas"
   ]
  },
  {
   "cell_type": "markdown",
   "metadata": {},
   "source": [
    "investigacoes_usuario retorna todas as investigações de dado usuário"
   ]
  },
  {
   "cell_type": "markdown",
   "metadata": {},
   "source": [
    "deletar_investigacao deleta a investigação e todos os seus dados"
   ]
  },
  {
   "cell_type": "markdown",
   "metadata": {},
   "source": [
    "deletar_usuario deleta o usuario e suas investigações"
   ]
  }
 ],
 "metadata": {
  "kernelspec": {
   "display_name": "Python 3",
   "language": "python",
   "name": "python3"
  },
  "language_info": {
   "codemirror_mode": {
    "name": "ipython",
    "version": 3
   },
   "file_extension": ".py",
   "mimetype": "text/x-python",
   "name": "python",
   "nbconvert_exporter": "python",
   "pygments_lexer": "ipython3",
   "version": "3.8.3"
  }
 },
 "nbformat": 4,
 "nbformat_minor": 4
}
